{
 "cells": [
  {
   "cell_type": "markdown",
   "metadata": {},
   "source": [
    "During my internship, I ran into a very common problem : lots of files. I had to analyse data of entire years from a subsidiary that sent us all its data within csv files, one for each day. I ended up with 700+ files to analyse each time and had to find a solution to merge all the data in a single file to process it in Tableau.\n",
    "\n",
    "So I created this little tool."
   ]
  },
  {
   "cell_type": "markdown",
   "metadata": {},
   "source": [
    "# Merging Tool"
   ]
  },
  {
   "cell_type": "code",
   "execution_count": 1,
   "metadata": {
    "collapsed": true
   },
   "outputs": [],
   "source": [
    "import pandas as pd"
   ]
  },
  {
   "cell_type": "markdown",
   "metadata": {},
   "source": [
    "# Functions used in this program :"
   ]
  },
  {
   "cell_type": "code",
   "execution_count": 2,
   "metadata": {
    "collapsed": true
   },
   "outputs": [],
   "source": [
    "def make_df_from_excel(item):\n",
    "    df = pd.read_excel(filename + extension, item)\n",
    "    return df\n",
    "\n",
    "\n",
    "def make_df_from_csv(item):\n",
    "    df = pd.read_csv(item + extension)\n",
    "    return df\n",
    "\n",
    "\n",
    "def concatenation():\n",
    "    if concattype == 'row':\n",
    "        mergtype = 0\n",
    "    elif concattype == 'column':\n",
    "        mergtype = 1\n",
    "    dataset = dfs[0]\n",
    "    for i in range(1, len(dfs)):\n",
    "        dataset = pd.concat([dataset, dfs[i]], axis=mergtype)\n",
    "    return dataset"
   ]
  },
  {
   "cell_type": "markdown",
   "metadata": {},
   "source": [
    "# Creation of the list\n",
    "\n",
    "this list will allow us to add either multiple csv files, or select every excel sheets from a workbook."
   ]
  },
  {
   "cell_type": "code",
   "execution_count": 3,
   "metadata": {
    "collapsed": true
   },
   "outputs": [],
   "source": [
    "items = []"
   ]
  },
  {
   "cell_type": "markdown",
   "metadata": {},
   "source": [
    "# Program init"
   ]
  },
  {
   "cell_type": "code",
   "execution_count": null,
   "metadata": {
    "collapsed": true
   },
   "outputs": [],
   "source": [
    "print('Welcome to the csv/excel merging tool! ')\n",
    "filename = input('What is the main file name? ')\n",
    "extension = input('What is the extension? (xls/xlsx/csv) ')\n",
    "if extension == 'xls':\n",
    "    extension = '.xls'\n",
    "    count=1\n",
    "    while 1:\n",
    "        element = input(\"Enter the name of sheet number {0}, 'done' to end: \".format(count))\n",
    "        count=+1\n",
    "        if element == \"done\":\n",
    "            print(\"End of list\")\n",
    "            break\n",
    "        else:\n",
    "            items.append(element)\n",
    "elif extension == 'xlsx':\n",
    "    extension = '.xlsx'\n",
    "    count=1\n",
    "    while 1:\n",
    "        element = input(\"Enter the name of sheet number {0}, 'done' to end: \".format(count))\n",
    "        count+=1\n",
    "        if element == \"done\":\n",
    "            print(\"End of list\")\n",
    "            break\n",
    "        else:\n",
    "            items.append(element)\n",
    "elif extension == 'csv':\n",
    "    extension = '.csv'\n",
    "    items.append(filename)\n",
    "    count=2\n",
    "    while 1:\n",
    "        element = input(\"Enter the name of file number {0}, 'done' to end: \".format(count))\n",
    "        count+=1\n",
    "        if element == \"done\":\n",
    "            print(\"End of list\")\n",
    "            break\n",
    "        else:\n",
    "            items.append(element)\n",
    "else:\n",
    "    print('Extension file not handled, please try again...')\n",
    "    exit()\n",
    "outputname = input('Select output name : ')\n",
    "concattype = input('Select merging type (row/column): ')"
   ]
  },
  {
   "cell_type": "markdown",
   "metadata": {},
   "source": [
    "So, basically, the program ask you for the file name you want to combine. Then its extension (between either xls, xlsx or csv),\n",
    "\n",
    "If you selected a xls or xlsx file, it will ask you for every single sheet you want to combine, and add it to the list. If you type done, it considers that the list is complete and skip to the next part.\n",
    "\n",
    "If you selected a csv file, it adds the filename to the list, and will then asks for all the other csv files you want to combine. If you type done, it also considers that the list is complete.\n",
    "\n",
    "\n",
    "Once the list if complete, it asks for a output name, and ask how you want to combine your files : either by row, or by columns.\n",
    "\n",
    "By the way, when I had tons of files, I used bash to export the current directory files list and then inserted it in the program list directly, which is much faster"
   ]
  },
  {
   "cell_type": "markdown",
   "metadata": {},
   "source": [
    "# Files loading"
   ]
  },
  {
   "cell_type": "code",
   "execution_count": null,
   "metadata": {
    "collapsed": true
   },
   "outputs": [],
   "source": [
    "print('Loading files, please wait...')\n",
    "try:\n",
    "    dfs=[]\n",
    "    current=0\n",
    "    dfcounter=0\n",
    "    if extension == '.xls':\n",
    "        for item in items:\n",
    "            df = make_df_from_excel(item)\n",
    "            current += 1\n",
    "            if concattype=='row':\n",
    "                print(item,'loaded ({0}/'.format(current)+'{0})'.format(len(items))+', currently {0} rows long.'.format(dfcounter+df.shape[0]))\n",
    "            elif concattype=='column':\n",
    "                print(item,'loaded ({0}/'.format(current)+'{0})'.format(len(items))+', currently {0} columns large.'.format(dfcounter+df.shape[1]))\n",
    "            dfs.append(df)\n",
    "            if concattype=='row':\n",
    "                dfcounter=dfcounter+df.shape[0]\n",
    "            elif concattype=='column':\n",
    "                dfcounter=dfcounter+df.shape[1]\n",
    "    elif extension == '.xlsx':\n",
    "        for item in items:\n",
    "            df = make_df_from_excel(item)\n",
    "            current += 1\n",
    "            if concattype=='row':\n",
    "                print(item,'loaded ({0}/'.format(current)+'{0})'.format(len(items))+', currently {0} rows long.'.format(dfcounter+df.shape[0]))\n",
    "            elif concattype=='column':\n",
    "                print(item,'loaded ({0}/'.format(current)+'{0})'.format(len(items))+', currently {0} columns large.'.format(dfcounter+df.shape[1]))\n",
    "            dfs.append(df)\n",
    "            if concattype=='row':\n",
    "                dfcounter=dfcounter+df.shape[0]\n",
    "            elif concattype=='column':\n",
    "                dfcounter=dfcounter+df.shape[1]\n",
    "    elif extension == '.csv':\n",
    "        for item in items:\n",
    "            df = make_df_from_csv(item)\n",
    "            current += 1\n",
    "            if concattype=='row':\n",
    "                print(item,'loaded ({0}/'.format(current)+'{0})'.format(len(items))+', currently {0} rows long.'.format(dfcounter+df.shape[0]))\n",
    "            elif concattype=='column':\n",
    "                print(item,'loaded ({0}/'.format(current)+'{0})'.format(len(items))+', currently {0} columns large.'.format(dfcounter+df.shape[1]))\n",
    "            dfs.append(df)\n",
    "            if concattype=='row':\n",
    "                dfcounter=dfcounter+df.shape[0]\n",
    "            elif concattype=='column':\n",
    "                dfcounter=dfcounter+df.shape[1]\n",
    "except:\n",
    "    print('Error : Invalid file')\n",
    "    exit()"
   ]
  },
  {
   "cell_type": "markdown",
   "metadata": {},
   "source": [
    "The programm will load every single file you mentionned earlier into memory and store its dataframe in the \"dfs\" list.\n",
    "As this process took a bit of time when loading from excel files, I wrote a little piece of code so that every time the program loads a file, it prints the current file like this :\n",
    "\n",
    "\"name_of_file loaded (8/248), currently 24983 rows long\"\n",
    "\n",
    "(example of a 248 files long list, with row merging. rows adds up every single time)"
   ]
  },
  {
   "cell_type": "markdown",
   "metadata": {},
   "source": [
    "# Output File Creation\n",
    "\n",
    "Every file is now loaded, it's time to get your final dataset and start analysing it!\n",
    "\n",
    "The program will use the concatenation function from the beginning, using the merging type you selected and adds up everything into your final Dataset."
   ]
  },
  {
   "cell_type": "code",
   "execution_count": null,
   "metadata": {
    "collapsed": true
   },
   "outputs": [],
   "source": [
    "print('Generating Dataset...')\n",
    "try:\n",
    "    dataset=concatenation()\n",
    "except:\n",
    "    print('Creation Failed.')\n",
    "    exit()"
   ]
  }
 ],
 "metadata": {
  "anaconda-cloud": {},
  "kernelspec": {
   "display_name": "Python [default]",
   "language": "python",
   "name": "python3"
  },
  "language_info": {
   "codemirror_mode": {
    "name": "ipython",
    "version": 3
   },
   "file_extension": ".py",
   "mimetype": "text/x-python",
   "name": "python",
   "nbconvert_exporter": "python",
   "pygments_lexer": "ipython3",
   "version": "3.5.2"
  }
 },
 "nbformat": 4,
 "nbformat_minor": 1
}
